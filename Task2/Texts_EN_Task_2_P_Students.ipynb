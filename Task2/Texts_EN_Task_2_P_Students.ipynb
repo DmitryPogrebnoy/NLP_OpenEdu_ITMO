{
 "nbformat": 4,
 "nbformat_minor": 0,
 "metadata": {
  "colab": {
   "name": "Texts_EN_Task_2_P_Students.ipynb",
   "provenance": [],
   "collapsed_sections": []
  },
  "kernelspec": {
   "name": "python3",
   "display_name": "Python 3"
  }
 },
 "cells": [
  {
   "cell_type": "markdown",
   "metadata": {
    "id": "Vd_ST0GfO97y"
   },
   "source": [
    "# Information Retrieval\n",
    "\n",
    "Let's download the classical data set, i.e. the CRANFIELD text set on aeronautics"
   ]
  },
  {
   "cell_type": "code",
   "metadata": {
    "id": "AHflLH2APAHK",
    "colab": {
     "base_uri": "https://localhost:8080/",
     "height": 85
    },
    "outputId": "2a1dad1c-2e1a-4bdc-91a2-f6befe15be64"
   },
   "source": [
    "! wget -q http://ir.dcs.gla.ac.uk/resources/test_collections/cran/cran.tar.gz\n",
    "! tar -xvf cran.tar.gz\n",
    "! rm cran.tar.gz*"
   ],
   "execution_count": 54,
   "outputs": [
    {
     "name": "stdout",
     "output_type": "stream",
     "text": [
      "cran.all.1400\r\n",
      "cran.qry\r\n",
      "cranqrel\r\n",
      "cranqrel.readme\r\n"
     ]
    }
   ]
  },
  {
   "cell_type": "markdown",
   "metadata": {
    "id": "zYuND83cPR5D"
   },
   "source": [
    "We take queries only (we will consider queries as documents)"
   ]
  },
  {
   "cell_type": "code",
   "metadata": {
    "id": "6owW-L7zhJws",
    "colab": {
     "base_uri": "https://localhost:8080/",
     "height": 68
    },
    "outputId": "5d1a9a46-5e0e-4fce-bab6-93b3f3dadf94"
   },
   "source": [
    "! grep -v \"^\\.\" cran.qry > just.qry\n",
    "! head -3 just.qry"
   ],
   "execution_count": 55,
   "outputs": [
    {
     "name": "stdout",
     "output_type": "stream",
     "text": [
      "what similarity laws must be obeyed when constructing aeroelastic models\r\n",
      "of heated high speed aircraft .\r\n",
      "what are the structural and aeroelastic problems associated with flight\r\n"
     ]
    }
   ]
  },
  {
   "cell_type": "markdown",
   "metadata": {
    "id": "8ZbUb6FmQxr1"
   },
   "source": [
    "We combine  multi-string queries into one"
   ]
  },
  {
   "cell_type": "code",
   "metadata": {
    "id": "SBaV3xeQiUam",
    "colab": {
     "base_uri": "https://localhost:8080/",
     "height": 51
    },
    "outputId": "68bf7ac9-a2f8-43f9-d165-f6f0702c7620"
   },
   "source": [
    "raw_query_data = [line.strip() for line in open(\"just.qry\", \"r\").readlines()]\n",
    "query_data = [\"\"]\n",
    "\n",
    "for query_part in raw_query_data:\n",
    "  query_data[-1] += query_part + \" \"\n",
    "  if query_part.endswith(\".\"):\n",
    "    query_data.append(\"\")\n",
    "\n",
    "query_data[:2] #Let's output the couple of documents as an example"
   ],
   "execution_count": 56,
   "outputs": [
    {
     "data": {
      "text/plain": "['what similarity laws must be obeyed when constructing aeroelastic models of heated high speed aircraft . ',\n 'what are the structural and aeroelastic problems associated with flight of high speed aircraft . ']"
     },
     "execution_count": 56,
     "metadata": {},
     "output_type": "execute_result"
    }
   ]
  },
  {
   "cell_type": "markdown",
   "metadata": {
    "id": "nLFq_6lBki3S"
   },
   "source": [
    "### Let's make queries to our documents"
   ]
  },
  {
   "cell_type": "code",
   "metadata": {
    "id": "h3sgHjWkjjR1"
   },
   "source": [
    "QUERIES = ['laminar boundary', 'mixing problem']\n"
   ],
   "execution_count": 57,
   "outputs": []
  },
  {
   "cell_type": "markdown",
   "metadata": {
    "id": "hQMdH0HSkoJg"
   },
   "source": [
    "## Boolean retrieval\n",
    "Let's represent each document as a \"bitmask\": that is a vector with a dimensionality equal to the vocabulary size, which has 1 at every position if the document contains the corresponding term; and 0 if it does not"
   ]
  },
  {
   "cell_type": "code",
   "execution_count": 58,
   "outputs": [
    {
     "name": "stdout",
     "output_type": "stream",
     "text": [
      "Requirement already satisfied: Cython in /home/Dmitry.Pogrebnoy/Desktop/NLP_OpenEdu_ITMO_Course/venv/lib/python3.9/site-packages (0.29.28)\r\n"
     ]
    }
   ],
   "source": [
    "!pip install Cython"
   ],
   "metadata": {
    "collapsed": false,
    "pycharm": {
     "name": "#%%\n"
    }
   }
  },
  {
   "cell_type": "code",
   "metadata": {
    "id": "lhrI18rZSLLz"
   },
   "source": [
    "# in different versions the answer could also differ, therefore it's important to have the same version\n",
    "! pip install -q scikit-learn==0.22.2.post1"
   ],
   "execution_count": 59,
   "outputs": []
  },
  {
   "cell_type": "code",
   "metadata": {
    "id": "DbTOdsHIknD0",
    "colab": {
     "base_uri": "https://localhost:8080/",
     "height": 34
    },
    "outputId": "79421614-b319-472d-a52c-c082ffb7e70e"
   },
   "source": [
    "from  sklearn.feature_extraction.text import CountVectorizer\n",
    "\n",
    "encoder = CountVectorizer(binary=True)\n",
    "encoded_data = encoder.fit_transform(query_data)\n",
    "encoded_queries = encoder.transform(QUERIES)\n",
    "list(encoder.vocabulary_)[:3]"
   ],
   "execution_count": 60,
   "outputs": [
    {
     "data": {
      "text/plain": "['what', 'similarity', 'laws']"
     },
     "execution_count": 60,
     "metadata": {},
     "output_type": "execute_result"
    }
   ]
  },
  {
   "cell_type": "markdown",
   "metadata": {
    "id": "oUdwKDKSTjdD"
   },
   "source": [
    "Let's look at the representation of the first sentence"
   ]
  },
  {
   "cell_type": "code",
   "metadata": {
    "id": "oXEmXErylJdX",
    "colab": {
     "base_uri": "https://localhost:8080/",
     "height": 272
    },
    "outputId": "d8f41827-aa26-4587-a774-7385bd15cf13"
   },
   "source": [
    "id2term = {idx: term for term, idx in encoder.vocabulary_.items()}\n",
    "non_zero_values_ids = encoded_data[0].nonzero()[1]\n",
    "\n",
    "terms = [id2term[idx] for idx in non_zero_values_ids]\n",
    "terms"
   ],
   "execution_count": 61,
   "outputs": [
    {
     "data": {
      "text/plain": "['what',\n 'similarity',\n 'laws',\n 'must',\n 'be',\n 'obeyed',\n 'when',\n 'constructing',\n 'aeroelastic',\n 'models',\n 'of',\n 'heated',\n 'high',\n 'speed',\n 'aircraft']"
     },
     "execution_count": 61,
     "metadata": {},
     "output_type": "execute_result"
    }
   ]
  },
  {
   "cell_type": "markdown",
   "metadata": {
    "id": "l8wdS9XiVwb2"
   },
   "source": [
    "It's fine.\n",
    "\n",
    "## Task 0\n",
    "\n",
    "Now for each query from `QUERIES` let's find the nearest document from `query_data` according to the Jaccard similarity index. There are more effictive solutions to do it, but your task is to realize the algorithm computing the Jaccard index and then apply it to our data."
   ]
  },
  {
   "cell_type": "code",
   "metadata": {
    "id": "u31WuBYAUWt2"
   },
   "source": [
    "import numpy as np \n",
    "\n",
    "def jaccard_sim(vector_a: np.array, vector_b: np.array) -> float:\n",
    "  \"\"\"\n",
    "    Similarity or Jaccard similarity index: the ratio of the intersection cardinality to the union cardinality\n",
    "  \"\"\"\n",
    "  # your code here\n",
    "\n",
    "  return float(sum(vector_a & vector_b) / sum(vector_a | vector_b))\n",
    "\n",
    "#Check that the function works correctly\n",
    "assert jaccard_sim(np.array([1, 0, 1, 0, 1]), np.array([0, 1, 1, 1, 1])) == 0.4"
   ],
   "execution_count": 62,
   "outputs": []
  },
  {
   "cell_type": "markdown",
   "metadata": {
    "id": "dYfQksWrOR1G"
   },
   "source": [
    "## Task 1\n",
    "Now using the code below find the most similar documents for each query."
   ]
  },
  {
   "cell_type": "code",
   "metadata": {
    "id": "4okpFpA6OAQs",
    "colab": {
     "base_uri": "https://localhost:8080/",
     "height": 207
    },
    "outputId": "f08c69ca-de42-480a-c9a0-044135703a28"
   },
   "source": [
    "for q_id, query in enumerate(encoded_queries):\n",
    "  # bring to the required datatype\n",
    "  query = query.todense().A1\n",
    "  docs = [doc.todense().A1 for doc in encoded_data]\n",
    "  # calculate the Jaccard index\n",
    "  id2doc2similarity = [(doc_id, doc, jaccard_sim(query, doc)) for doc_id, doc in enumerate(docs)]\n",
    "  # sort according to it\n",
    "  closest = sorted(id2doc2similarity, key=lambda x: x[2], reverse=True)\n",
    "  \n",
    "  print(\"Q: %s\\nFOUND:\" % QUERIES[q_id])\n",
    "  # output 3 most similar documents for each query\n",
    "  for closest_id, _, sim in closest[:3]:\n",
    "    print(\"    %d\\t%.2f\\t%s\" %(closest_id, sim, query_data[closest_id]))\n",
    "\n"
   ],
   "execution_count": 63,
   "outputs": [
    {
     "name": "stdout",
     "output_type": "stream",
     "text": [
      "Q: laminar boundary\n",
      "FOUND:\n",
      "    205\t0.17\thas anyone investigated theoretically whether surface flexibility can stabilize a laminar boundary layer . \n",
      "    209\t0.14\twhat are the physical significance and characteristics of separated laminar and turbulent boundary layer flows . \n",
      "    69\t0.11\tprevious solutions to the boundary layer similarity equations . \n",
      "Q: mixing problem\n",
      "FOUND:\n",
      "    59\t0.10\tis there any simple,  but practical,  method for numerical integration of the mixing problem (i.e. the blasius problem with three-point boundary conditions) . \n",
      "    172\t0.09\tsolution of the blasius problem with three-point boundary conditions . \n",
      "    196\t0.07\tthe problem of similarity for representative investigation of aeroelastic effects in a flow with the absence of heating effects . \n"
     ]
    }
   ]
  },
  {
   "cell_type": "markdown",
   "metadata": {
    "id": "A1Fh8RdvOrAD"
   },
   "source": [
    "We see that some texts intersecting with the query only in insignificant terms have a high Jaccard index (that is our ranking function).\n",
    "\n",
    "# VSM\n",
    "\n",
    "Now we are going to do similar calculations, but using tf-idf and cosine distance. To practice we make everything \"manually\", but in \"real life\" it's better to use existing effective solutions, e.g., cosine distance from scipy library."
   ]
  },
  {
   "cell_type": "code",
   "metadata": {
    "id": "DmpKMI08E2iO",
    "colab": {
     "base_uri": "https://localhost:8080/",
     "height": 34
    },
    "outputId": "957b4013-7b8f-431c-e6d1-697075fb207f"
   },
   "source": [
    "from  sklearn.feature_extraction.text import TfidfVectorizer\n",
    "\n",
    "# Advice: we highly recommend to check what tf-idf vectorizer\n",
    "# is able to do, and change its parameters\n",
    "\n",
    "tfidf_encoder = TfidfVectorizer()\n",
    "tfidf_encoded_data = tfidf_encoder.fit_transform(query_data)\n",
    "tfidf_encoded_queries = tfidf_encoder.transform(QUERIES)\n",
    "\n",
    "list(tfidf_encoder.vocabulary_)[:3]"
   ],
   "execution_count": 64,
   "outputs": [
    {
     "data": {
      "text/plain": "['what', 'similarity', 'laws']"
     },
     "execution_count": 64,
     "metadata": {},
     "output_type": "execute_result"
    }
   ]
  },
  {
   "cell_type": "markdown",
   "metadata": {
    "id": "hHTzIjfNRHj2"
   },
   "source": [
    "## Task 2\n",
    "Realize the cosine distance computation"
   ]
  },
  {
   "cell_type": "code",
   "metadata": {
    "id": "UCfgR6xEPeDn"
   },
   "source": [
    "from numpy.linalg import norm\n",
    "from numpy import dot\n",
    "import numpy as np\n",
    "\n",
    "def cosine_distance(vector_a: np.array, vector_b: np.array) -> float:\n",
    "  \"\"\"\n",
    "    Cosine distance is 1 minus the ratio of the dot product \n",
    "    and the product of L2-norm (hint: there are such norms in numpy)\n",
    "  \"\"\"\n",
    "  # your code here\n",
    "  value1 = float(dot(vector_a, vector_b))\n",
    "  value2 = (norm(vector_a)*norm(vector_b))\n",
    "  if value2 == 0:\n",
    "    return 1\n",
    "  else:\n",
    "    return 1 - value1/value2\n",
    "\n",
    "\n",
    "#Check that the function is working correctly\n",
    "assert cosine_distance(np.array([1, 0, 1, 1, 1]), np.array([0, 0, 1, 0, 0])) == 0.5"
   ],
   "execution_count": 74,
   "outputs": []
  },
  {
   "cell_type": "markdown",
   "metadata": {
    "id": "vJHsaHoORlEC"
   },
   "source": [
    "\n",
    "Now let's find the nearset documents to the query according to the cosine distance between the document vector and the query representation"
   ]
  },
  {
   "cell_type": "code",
   "metadata": {
    "id": "fIZJRBKQQR1G",
    "colab": {
     "base_uri": "https://localhost:8080/",
     "height": 275
    },
    "outputId": "6515e3a4-b4eb-4943-f1e0-26f9fec648d3"
   },
   "source": [
    "for q_id, query in enumerate(tfidf_encoded_queries):\n",
    "  \n",
    "  # bring to the required datatype\n",
    "  query = query.todense().A1\n",
    "  docs = [doc.todense().A1 for doc in tfidf_encoded_data]\n",
    "  # Cosine distance\n",
    "  id2doc2similarity = [(doc_id, doc, cosine_distance(query, doc)) \\\n",
    "                       for doc_id, doc in enumerate(docs)]\n",
    "  # sort according to it\n",
    "  closest = sorted(id2doc2similarity, key=lambda x: x[2], reverse=False)\n",
    "  \n",
    "  print(\"Q: %s\\nFOUND:\" % QUERIES[q_id])\n",
    "  \n",
    "  for closest_id, _, sim in closest[:3]:\n",
    "    print(\"    %d\\t%.2f\\t%s\" %(closest_id, sim, query_data[closest_id]))"
   ],
   "execution_count": 75,
   "outputs": [
    {
     "name": "stdout",
     "output_type": "stream",
     "text": [
      "Q: laminar boundary\n",
      "FOUND:\n",
      "    205\t0.66\thas anyone investigated theoretically whether surface flexibility can stabilize a laminar boundary layer . \n",
      "    209\t0.67\twhat are the physical significance and characteristics of separated laminar and turbulent boundary layer flows . \n",
      "    25\t0.68\twhat is a single approximate formula for the displacement thickness of a laminar boundary layer in compressible flow on a flat plate . \n",
      "Q: mixing problem\n",
      "FOUND:\n",
      "    59\t0.56\tis there any simple,  but practical,  method for numerical integration of the mixing problem (i.e. the blasius problem with three-point boundary conditions) . \n",
      "    16\t0.79\tcan the three-dimensional problem of a transverse potential flow about a body of revolution be reduced to a two-dimensional problem . \n",
      "    172\t0.83\tsolution of the blasius problem with three-point boundary conditions . \n"
     ]
    }
   ]
  }
 ]
}