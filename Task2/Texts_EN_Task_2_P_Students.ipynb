{
 "nbformat": 4,
 "nbformat_minor": 0,
 "metadata": {
  "colab": {
   "name": "Texts_EN_Task_2_P_Students.ipynb",
   "provenance": [],
   "collapsed_sections": []
  },
  "kernelspec": {
   "name": "python3",
   "display_name": "Python 3"
  }
 },
 "cells": [
  {
   "cell_type": "markdown",
   "metadata": {
    "id": "Vd_ST0GfO97y"
   },
   "source": [
    "# Information Retrieval\n",
    "\n",
    "Let's download the classical data set, i.e. the CRANFIELD text set on aeronautics"
   ]
  },
  {
   "cell_type": "code",
   "metadata": {
    "id": "AHflLH2APAHK",
    "colab": {
     "base_uri": "https://localhost:8080/",
     "height": 85
    },
    "outputId": "2a1dad1c-2e1a-4bdc-91a2-f6befe15be64"
   },
   "source": [
    "! wget -q http://ir.dcs.gla.ac.uk/resources/test_collections/cran/cran.tar.gz\n",
    "! tar -xvf cran.tar.gz\n",
    "! rm cran.tar.gz*"
   ],
   "execution_count": 1,
   "outputs": [
    {
     "name": "stderr",
     "output_type": "stream",
     "text": [
      "'wget' is not recognized as an internal or external command,\n",
      "operable program or batch file.\n",
      "tar: Error opening archive: Failed to open 'cran.tar.gz'\n",
      "'rm' is not recognized as an internal or external command,\n",
      "operable program or batch file.\n"
     ]
    }
   ]
  },
  {
   "cell_type": "markdown",
   "metadata": {
    "id": "zYuND83cPR5D"
   },
   "source": [
    "We take queries only (we will consider queries as documents)"
   ]
  },
  {
   "cell_type": "code",
   "metadata": {
    "id": "6owW-L7zhJws",
    "colab": {
     "base_uri": "https://localhost:8080/",
     "height": 68
    },
    "outputId": "5d1a9a46-5e0e-4fce-bab6-93b3f3dadf94"
   },
   "source": [
    "! grep -v \"^\\.\" cran.qry > just.qry\n",
    "! head -3 just.qry"
   ],
   "execution_count": null,
   "outputs": [
    {
     "output_type": "stream",
     "text": [
      "what similarity laws must be obeyed when constructing aeroelastic models\r\n",
      "of heated high speed aircraft .\r\n",
      "what are the structural and aeroelastic problems associated with flight\r\n"
     ],
     "name": "stdout"
    }
   ]
  },
  {
   "cell_type": "markdown",
   "metadata": {
    "id": "8ZbUb6FmQxr1"
   },
   "source": [
    "We combine  multi-string queries into one"
   ]
  },
  {
   "cell_type": "code",
   "metadata": {
    "id": "SBaV3xeQiUam",
    "colab": {
     "base_uri": "https://localhost:8080/",
     "height": 51
    },
    "outputId": "68bf7ac9-a2f8-43f9-d165-f6f0702c7620"
   },
   "source": [
    "raw_query_data = [line.strip() for line in open(\"just.qry\", \"r\").readlines()]\n",
    "query_data = [\"\"]\n",
    "\n",
    "for query_part in raw_query_data:\n",
    "  query_data[-1] += query_part + \" \"\n",
    "  if query_part.endswith(\".\"):\n",
    "    query_data.append(\"\")\n",
    "\n",
    "query_data[:2] #Let's output the couple of documents as an example"
   ],
   "execution_count": null,
   "outputs": [
    {
     "output_type": "execute_result",
     "data": {
      "text/plain": [
       "['what similarity laws must be obeyed when constructing aeroelastic models of heated high speed aircraft . ',\n",
       " 'what are the structural and aeroelastic problems associated with flight of high speed aircraft . ']"
      ]
     },
     "metadata": {
      "tags": []
     },
     "execution_count": 7
    }
   ]
  },
  {
   "cell_type": "markdown",
   "metadata": {
    "id": "nLFq_6lBki3S"
   },
   "source": [
    "### Let's make queries to our documents"
   ]
  },
  {
   "cell_type": "code",
   "metadata": {
    "id": "h3sgHjWkjjR1"
   },
   "source": [
    "QUERIES = ['theory of bending', 'aeroelastic effects']\n"
   ],
   "execution_count": null,
   "outputs": []
  },
  {
   "cell_type": "markdown",
   "metadata": {
    "id": "hQMdH0HSkoJg"
   },
   "source": [
    "## Boolean retrieval\n",
    "Let's represent each document as a \"bitmask\": that is a vector with a dimensionality equal to the vocabulary size, which has 1 at every position if the document contains the corresponding term; and 0 if it does not"
   ]
  },
  {
   "cell_type": "code",
   "metadata": {
    "id": "lhrI18rZSLLz"
   },
   "source": [
    "# in different versions the answer could also differ, therefore it's important to have the same version\n",
    "! pip install -q scikit-learn==0.22.2.post1"
   ],
   "execution_count": null,
   "outputs": []
  },
  {
   "cell_type": "code",
   "metadata": {
    "id": "DbTOdsHIknD0",
    "colab": {
     "base_uri": "https://localhost:8080/",
     "height": 34
    },
    "outputId": "79421614-b319-472d-a52c-c082ffb7e70e"
   },
   "source": [
    "from  sklearn.feature_extraction.text import CountVectorizer\n",
    "\n",
    "encoder = CountVectorizer(binary=True)\n",
    "encoded_data = encoder.fit_transform(query_data)\n",
    "encoded_queries = encoder.transform(QUERIES)\n",
    "list(encoder.vocabulary_)[:3]"
   ],
   "execution_count": null,
   "outputs": [
    {
     "output_type": "execute_result",
     "data": {
      "text/plain": [
       "['what', 'similarity', 'laws']"
      ]
     },
     "metadata": {
      "tags": []
     },
     "execution_count": 19
    }
   ]
  },
  {
   "cell_type": "markdown",
   "metadata": {
    "id": "oUdwKDKSTjdD"
   },
   "source": [
    "Let's look at the representation of the first sentence"
   ]
  },
  {
   "cell_type": "code",
   "metadata": {
    "id": "oXEmXErylJdX",
    "colab": {
     "base_uri": "https://localhost:8080/",
     "height": 272
    },
    "outputId": "d8f41827-aa26-4587-a774-7385bd15cf13"
   },
   "source": [
    "id2term = {idx: term for term, idx in encoder.vocabulary_.items()}\n",
    "non_zero_values_ids = encoded_data[0].nonzero()[1]\n",
    "\n",
    "terms = [id2term[idx] for idx in non_zero_values_ids]\n",
    "terms"
   ],
   "execution_count": null,
   "outputs": [
    {
     "output_type": "execute_result",
     "data": {
      "text/plain": [
       "['what',\n",
       " 'similarity',\n",
       " 'laws',\n",
       " 'must',\n",
       " 'be',\n",
       " 'obeyed',\n",
       " 'when',\n",
       " 'constructing',\n",
       " 'aeroelastic',\n",
       " 'models',\n",
       " 'of',\n",
       " 'heated',\n",
       " 'high',\n",
       " 'speed',\n",
       " 'aircraft']"
      ]
     },
     "metadata": {
      "tags": []
     },
     "execution_count": 20
    }
   ]
  },
  {
   "cell_type": "markdown",
   "metadata": {
    "id": "l8wdS9XiVwb2"
   },
   "source": [
    "It's fine.\n",
    "\n",
    "## Task 0\n",
    "\n",
    "Now for each query from `QUERIES` let's find the nearest document from `query_data` according to the Jaccard similarity index. There are more effictive solutions to do it, but your task is to realize the algorithm computing the Jaccard index and then apply it to our data."
   ]
  },
  {
   "cell_type": "code",
   "metadata": {
    "id": "u31WuBYAUWt2"
   },
   "source": [
    "import numpy as np \n",
    "\n",
    "def jaccard_sim(vector_a: np.array, vector_b: np.array) -> float:\n",
    "  \"\"\"\n",
    "    Similarity or Jaccard similarity index: the ratio of the intersection cardinality to the union cardinality\n",
    "  \"\"\"\n",
    "  # your code here\n",
    "  \n",
    "  return\n",
    "#Check that the function works correctly\n",
    "assert jaccard_sim(np.array([1, 0, 1, 0, 1]), np.array([0, 1, 1, 1, 1])) == 0.4"
   ],
   "execution_count": null,
   "outputs": []
  },
  {
   "cell_type": "markdown",
   "metadata": {
    "id": "dYfQksWrOR1G"
   },
   "source": [
    "## Task 1\n",
    "Now using the code below find the most similar documents for each query."
   ]
  },
  {
   "cell_type": "code",
   "metadata": {
    "id": "4okpFpA6OAQs",
    "colab": {
     "base_uri": "https://localhost:8080/",
     "height": 207
    },
    "outputId": "f08c69ca-de42-480a-c9a0-044135703a28"
   },
   "source": [
    "for q_id, query in enumerate(encoded_queries):\n",
    "  # bring to the required datatype\n",
    "  query = query.todense().A1\n",
    "  docs = [doc.todense().A1 for doc in encoded_data]\n",
    "  # calculate the Jaccard index\n",
    "  id2doc2similarity = [(doc_id, doc, jaccard_sim(query, doc)) for doc_id, doc in enumerate(docs)]\n",
    "  # sort according to it\n",
    "  closest = sorted(id2doc2similarity, key=lambda x: x[2], reverse=True)\n",
    "  \n",
    "  print(\"Q: %s\\nFOUND:\" % QUERIES[q_id])\n",
    "  # output 3 most similar documents for each query\n",
    "  for closest_id, _, sim in closest[:3]:\n",
    "    print(\"    %d\\t%.2f\\t%s\" %(closest_id, sim, query_data[closest_id]))\n",
    "\n"
   ],
   "execution_count": null,
   "outputs": [
    {
     "output_type": "stream",
     "text": [
      "Q: theory of bending\n",
      "FOUND:\n",
      "    42\t0.20\twhat are the details of the rigorous kinetic theory of gases . \n",
      "    43\t0.20\t(chapman-enskog theory) . \n",
      "    146\t0.19\tdoes a membrane theory exist by which the behaviour of pressurized membrane cylinders in bending can be predicted . \n",
      "Q: aeroelastic effects\n",
      "FOUND:\n",
      "    196\t0.14\tthe problem of similarity for representative investigation of aeroelastic effects in a flow with the absence of heating effects . \n",
      "    204\t0.12\tdo viscous effects seriously modify pressure distributions . \n",
      "    114\t0.12\tis the problem of similarity for representative investigations of aeroelastic effects in heated flow as intractable as previous investigations imply . \n"
     ],
     "name": "stdout"
    }
   ]
  },
  {
   "cell_type": "markdown",
   "metadata": {
    "id": "A1Fh8RdvOrAD"
   },
   "source": [
    "We see that some texts intersecting with the query only in insignificant terms have a high Jaccard index (that is our ranking function).\n",
    "\n",
    "# VSM\n",
    "\n",
    "Now we are going to do similar calculations, but using tf-idf and cosine distance. To practice we make everything \"manually\", but in \"real life\" it's better to use existing effective solutions, e.g., cosine distance from scipy library."
   ]
  },
  {
   "cell_type": "code",
   "metadata": {
    "id": "DmpKMI08E2iO",
    "colab": {
     "base_uri": "https://localhost:8080/",
     "height": 34
    },
    "outputId": "957b4013-7b8f-431c-e6d1-697075fb207f"
   },
   "source": [
    "from  sklearn.feature_extraction.text import TfidfVectorizer\n",
    "\n",
    "# Advice: we highly recommend to check what tf-idf vectorizer\n",
    "# is able to do, and change its parameters\n",
    "\n",
    "tfidf_encoder = TfidfVectorizer()\n",
    "tfidf_encoded_data = tfidf_encoder.fit_transform(query_data)\n",
    "tfidf_encoded_queries = tfidf_encoder.transform(QUERIES)\n",
    "\n",
    "list(tfidf_encoder.vocabulary_)[:3]"
   ],
   "execution_count": null,
   "outputs": [
    {
     "output_type": "execute_result",
     "data": {
      "text/plain": [
       "['what', 'similarity', 'laws']"
      ]
     },
     "metadata": {
      "tags": []
     },
     "execution_count": 24
    }
   ]
  },
  {
   "cell_type": "markdown",
   "metadata": {
    "id": "hHTzIjfNRHj2"
   },
   "source": [
    "## Task 2\n",
    "Realize the cosine distance computation"
   ]
  },
  {
   "cell_type": "code",
   "metadata": {
    "id": "UCfgR6xEPeDn"
   },
   "source": [
    "import numpy as np \n",
    "\n",
    "def cosine_distance(vector_a: np.array, vector_b: np.array) -> float:\n",
    "  \"\"\"\n",
    "    Cosine distance is 1 minus the ratio of the dot product \n",
    "    and the product of L2-norm (hint: there are such norms in numpy)\n",
    "  \"\"\"\n",
    "  # your code here\n",
    "\n",
    "  return  \n",
    "#Check that the function is working correctly\n",
    "assert cosine_distance(np.array([1, 0, 1, 1, 1]), np.array([0, 0, 1, 0, 0])) == 0.5"
   ],
   "execution_count": null,
   "outputs": []
  },
  {
   "cell_type": "markdown",
   "metadata": {
    "id": "vJHsaHoORlEC"
   },
   "source": [
    "\n",
    "Now let's find the nearset documents to the query according to the cosine distance between the document vector and the query representation"
   ]
  },
  {
   "cell_type": "code",
   "metadata": {
    "id": "fIZJRBKQQR1G",
    "colab": {
     "base_uri": "https://localhost:8080/",
     "height": 275
    },
    "outputId": "6515e3a4-b4eb-4943-f1e0-26f9fec648d3"
   },
   "source": [
    "for q_id, query in enumerate(tfidf_encoded_queries):\n",
    "  \n",
    "  # bring to the required datatype\n",
    "  query = query.todense().A1\n",
    "  docs = [doc.todense().A1 for doc in tfidf_encoded_data]\n",
    "  # Cosine distance\n",
    "  id2doc2similarity = [(doc_id, doc, cosine_distance(query, doc)) \\\n",
    "                       for doc_id, doc in enumerate(docs)]\n",
    "  # sort according to it\n",
    "  closest = sorted(id2doc2similarity, key=lambda x: x[2], reverse=False)\n",
    "  \n",
    "  print(\"Q: %s\\nFOUND:\" % QUERIES[q_id])\n",
    "  \n",
    "  for closest_id, _, sim in closest[:3]:\n",
    "    print(\"    %d\\t%.2f\\t%s\" %(closest_id, sim, query_data[closest_id]))"
   ],
   "execution_count": null,
   "outputs": [
    {
     "output_type": "stream",
     "text": [
      "Q: theory of bending\n",
      "FOUND:\n",
      "    145\t0.65\twhat are the best experimental data and classical small deflection theory analyses available for pressurized cylinders in bending . \n",
      "    146\t0.66\tdoes a membrane theory exist by which the behaviour of pressurized membrane cylinders in bending can be predicted . \n",
      "    111\t0.66\thas the solution of the clamped plate problem,  in the classical theory of bending,  been reduced to two successive membrane boundary value problems . \n",
      "Q: aeroelastic effects\n",
      "FOUND:\n",
      "    196\t0.51\tthe problem of similarity for representative investigation of aeroelastic effects in a flow with the absence of heating effects . \n",
      "    114\t0.70\tis the problem of similarity for representative investigations of aeroelastic effects in heated flow as intractable as previous investigations imply . \n",
      "    1\t0.74\twhat are the structural and aeroelastic problems associated with flight of high speed aircraft . \n"
     ],
     "name": "stdout"
    },
    {
     "output_type": "stream",
     "text": [
      "/usr/local/lib/python3.6/dist-packages/ipykernel_launcher.py:10: RuntimeWarning: invalid value encountered in double_scalars\n",
      "  # Remove the CWD from sys.path while we load stuff.\n",
      "/usr/local/lib/python3.6/dist-packages/ipykernel_launcher.py:10: RuntimeWarning: invalid value encountered in double_scalars\n",
      "  # Remove the CWD from sys.path while we load stuff.\n"
     ],
     "name": "stderr"
    }
   ]
  }
 ]
}